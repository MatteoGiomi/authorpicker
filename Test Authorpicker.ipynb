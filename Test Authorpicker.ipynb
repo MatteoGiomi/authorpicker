{
 "cells": [
  {
   "cell_type": "markdown",
   "metadata": {},
   "source": [
    "# pickauthor example\n",
    "\n",
    "This tiny notebook will demonstrate how the `Contributor` and `Eligibles` classes can be used to assign papers among a set of eligible authors. Each \n"
   ]
  },
  {
   "cell_type": "code",
   "execution_count": 1,
   "metadata": {},
   "outputs": [
    {
     "name": "stdout",
     "output_type": "stream",
     "text": [
      "0) matteoG : 16.00 points\n",
      "1) ginnyC : 10.01 points\n",
      "2) philippeR : 1.72 points\n",
      "3) ThomasK : 13.77 points\n"
     ]
    }
   ],
   "source": [
    "from authorpicker import Eligibles\n",
    "\n",
    "contributors_pool = {\n",
    "    'matteoG': {\n",
    "        'position'         : 'postdoc',\n",
    "        'lead'             : True,\n",
    "        'completed_tasks'  : 3, # shutter timing, starflat, LED equalization\n",
    "        'software_packages': 3,\t# queryIRSA, dataslicer, ztftoolbox\n",
    "        'last_active'      : 'current',\n",
    "        'affiliation'      : 'Humboldt Universit\\{ae}t zu Berlin'       \n",
    "        },\n",
    "    'ginnyC': {\n",
    "        'position'\t\t\t: 'phd',\n",
    "        'lead'\t\t\t\t: False,\n",
    "        'completed_tasks'\t: 3,\n",
    "        'software_packages'\t: 0,\n",
    "        'last_active'\t\t: '2018-10-15',\n",
    "        'affiliation'       : 'Astronomy Department, University of Maryland, College Park, MD 20742, USA'\n",
    "        },\n",
    "    'philippeR': {\n",
    "        'position'\t\t\t: 'staff',\n",
    "        'lead'\t\t\t\t: False,\n",
    "        'completed_tasks'\t: 1,\n",
    "        'software_packages'\t: 0,\t\n",
    "        'last_active'\t\t: '2019-02-20',\n",
    "        'affiliation'       : 'Université Clermont Auvergne, CNRS/IN2P3, LPC, Clermont-Ferrand, France'\n",
    "        },\n",
    "    'ThomasK': {\n",
    "        'position'          : \"postdoc\",\n",
    "        'lead'\t\t\t\t: True,\n",
    "        'completed_tasks'   : 4,\n",
    "        'software_packages' : 0,\n",
    "        'last_active'       : '2018-09-01',\n",
    "        'affiliation'       : 'Kavli Institute for Theoretical Physics, University of California, Santa Barbara, CA 93106, USA'\n",
    "        }\n",
    "    }\n",
    "\n",
    "authors = Eligibles(contributors_pool)\n",
    "\n",
    "authors.pprint()\n",
    "\n"
   ]
  },
  {
   "cell_type": "markdown",
   "metadata": {},
   "source": [
    "## test\n",
    "\n",
    "let's see how many reference each author would have 100 papers in the future..\n"
   ]
  },
  {
   "cell_type": "code",
   "execution_count": 2,
   "metadata": {},
   "outputs": [
    {
     "name": "stdout",
     "output_type": "stream",
     "text": [
      "Counter({'ThomasK': 40, 'matteoG': 28, 'ginnyC': 26, 'philippeR': 6})\n"
     ]
    }
   ],
   "source": [
    "chosen_authors = [authors.pick_author().name for _ in range(100)]\n",
    "from collections import Counter\n",
    "stats = Counter(chosen_authors)\n",
    "print (stats)\n"
   ]
  },
  {
   "cell_type": "markdown",
   "metadata": {},
   "source": [
    "# pick one author"
   ]
  },
  {
   "cell_type": "code",
   "execution_count": 4,
   "metadata": {},
   "outputs": [
    {
     "name": "stdout",
     "output_type": "stream",
     "text": [
      "2019-04-11 08:24:56.476526\n"
     ]
    },
    {
     "data": {
      "text/plain": [
       "'matteoG'"
      ]
     },
     "execution_count": 4,
     "metadata": {},
     "output_type": "execute_result"
    }
   ],
   "source": [
    "import datetime\n",
    "print (str(datetime.datetime.now()))\n",
    "authors.pick_author().name"
   ]
  },
  {
   "cell_type": "markdown",
   "metadata": {
    "collapsed": true
   },
   "source": [
    "# assign papers\n",
    "\n",
    "fiannly, we have a list of papers and we want to assign an author to each of them. Easy peasy\n",
    "\n"
   ]
  },
  {
   "cell_type": "code",
   "execution_count": 4,
   "metadata": {},
   "outputs": [
    {
     "name": "stdout",
     "output_type": "stream",
     "text": [
      "0) paper0 --> ginnyC Astronomy Department, University of Maryland, College Park, MD 20742, USA\n",
      "1) paper1 --> ThomasK Kavli Institute for Theoretical Physics, University of California, Santa Barbara, CA 93106, USA\n",
      "2) paper2 --> matteoG Humboldt Universit\\{ae}t zu Berlin\n",
      "3) paper3 --> ginnyC Astronomy Department, University of Maryland, College Park, MD 20742, USA\n",
      "4) paper4 --> ThomasK Kavli Institute for Theoretical Physics, University of California, Santa Barbara, CA 93106, USA\n",
      "5) paper5 --> ThomasK Kavli Institute for Theoretical Physics, University of California, Santa Barbara, CA 93106, USA\n",
      "6) paper6 --> matteoG Humboldt Universit\\{ae}t zu Berlin\n",
      "7) paper7 --> ThomasK Kavli Institute for Theoretical Physics, University of California, Santa Barbara, CA 93106, USA\n",
      "8) paper8 --> ThomasK Kavli Institute for Theoretical Physics, University of California, Santa Barbara, CA 93106, USA\n",
      "9) paper9 --> ThomasK Kavli Institute for Theoretical Physics, University of California, Santa Barbara, CA 93106, USA\n",
      "10) paper10 --> ThomasK Kavli Institute for Theoretical Physics, University of California, Santa Barbara, CA 93106, USA\n",
      "11) paper11 --> matteoG Humboldt Universit\\{ae}t zu Berlin\n",
      "12) paper12 --> ThomasK Kavli Institute for Theoretical Physics, University of California, Santa Barbara, CA 93106, USA\n",
      "13) paper13 --> matteoG Humboldt Universit\\{ae}t zu Berlin\n",
      "14) paper14 --> matteoG Humboldt Universit\\{ae}t zu Berlin\n",
      "15) paper15 --> ThomasK Kavli Institute for Theoretical Physics, University of California, Santa Barbara, CA 93106, USA\n",
      "16) paper16 --> matteoG Humboldt Universit\\{ae}t zu Berlin\n",
      "17) paper17 --> ginnyC Astronomy Department, University of Maryland, College Park, MD 20742, USA\n",
      "18) paper18 --> ThomasK Kavli Institute for Theoretical Physics, University of California, Santa Barbara, CA 93106, USA\n",
      "19) paper19 --> ginnyC Astronomy Department, University of Maryland, College Park, MD 20742, USA\n",
      "20) paper20 --> ginnyC Astronomy Department, University of Maryland, College Park, MD 20742, USA\n",
      "21) paper21 --> matteoG Humboldt Universit\\{ae}t zu Berlin\n"
     ]
    }
   ],
   "source": [
    "# let's create a phony list of papers\n",
    "papers = ['paper%d'%ii for ii in range(22)]\n",
    "author_list = authors.assign(papers)"
   ]
  }
 ],
 "metadata": {
  "kernelspec": {
   "display_name": "Python 3",
   "language": "python",
   "name": "python3"
  },
  "language_info": {
   "codemirror_mode": {
    "name": "ipython",
    "version": 3
   },
   "file_extension": ".py",
   "mimetype": "text/x-python",
   "name": "python",
   "nbconvert_exporter": "python",
   "pygments_lexer": "ipython3",
   "version": "3.6.3"
  }
 },
 "nbformat": 4,
 "nbformat_minor": 2
}
