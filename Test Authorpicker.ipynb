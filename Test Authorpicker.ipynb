{
 "cells": [
  {
   "cell_type": "markdown",
   "metadata": {},
   "source": [
    "# pickauthor example\n",
    "\n",
    "This tiny notebook will demonstrate how the `Contributor` and `Eligibles` classes can be used to assign papers among a set of eligible authors. Each \n"
   ]
  },
  {
   "cell_type": "code",
   "execution_count": 1,
   "metadata": {},
   "outputs": [
    {
     "name": "stdout",
     "output_type": "stream",
     "text": [
      "0) matteoG : 16.00 points\n",
      "1) lazyProf : 1.00 points\n",
      "2) helpfulStudent : 21.00 points\n",
      "3) oldPostdoc : 55.59 points\n"
     ]
    }
   ],
   "source": [
    "from authorpicker import Eligibles\n",
    "\n",
    "contributors_pool = {\n",
    "    'matteoG': {\n",
    "        'position'         : 'postdoc',\n",
    "        'lead'             : True,\n",
    "        'completed_tasks'  : 3, # shutter timing, starflat, LED equalization\n",
    "        'software_packages': 3,\t# queryIRSA, dataslicer, ztftoolbox\n",
    "        'last_active'      : 'current',\n",
    "        'affiliation'      : 'Humboldt Universit\\{ae}t zu Berlin'       \n",
    "        },\n",
    "    'lazyProf': {\n",
    "        'position'\t\t\t: 'staff',\n",
    "        'lead'\t\t\t\t: False,\n",
    "        'completed_tasks'\t: 0, # shutter timing, starflat, LED equalization\n",
    "        'software_packages'\t: 0,\t# queryIRSA, dataslicer, ztftoolbox\n",
    "        'last_active'\t\t: '2018-12-21',\n",
    "        'affiliation'       : 'institute1'\n",
    "        },\n",
    "    'helpfulStudent': {\n",
    "        'position'\t\t\t: 'phd',\n",
    "        'lead'\t\t\t\t: False,\n",
    "        'completed_tasks'\t: 5, # shutter timing, starflat, LED equalization\n",
    "        'software_packages'\t: 6,\t\n",
    "        'last_active'\t\t: 'current',\n",
    "        'affiliation'       : 'institute2'\n",
    "        },\n",
    "    'oldPostdoc': {\n",
    "        'position'\t\t\t: 'postdoc',\n",
    "        'lead'\t\t\t\t: False,\n",
    "        'completed_tasks'\t: 22, # shutter timing, starflat, LED equalization\n",
    "        'software_packages'\t: 8,\n",
    "        'last_active'\t\t: '2018-06-21',\n",
    "        'affiliation'       : 'institute3'\n",
    "        }\n",
    "    }\n",
    "\n",
    "authors = Eligibles(contributors_pool)\n",
    "\n",
    "authors.pprint()\n",
    "\n"
   ]
  },
  {
   "cell_type": "markdown",
   "metadata": {},
   "source": [
    "## test\n",
    "\n",
    "let's see how many reference each author would have 100 papers in the future..\n"
   ]
  },
  {
   "cell_type": "code",
   "execution_count": 2,
   "metadata": {},
   "outputs": [
    {
     "name": "stdout",
     "output_type": "stream",
     "text": [
      "Counter({'oldPostdoc': 54, 'helpfulStudent': 24, 'matteoG': 22})\n"
     ]
    }
   ],
   "source": [
    "chosen_authors = [authors.pick_author().name for _ in range(100)]\n",
    "from collections import Counter\n",
    "stats = Counter(chosen_authors)\n",
    "print (stats)\n"
   ]
  },
  {
   "cell_type": "markdown",
   "metadata": {
    "collapsed": true
   },
   "source": [
    "# assign papers\n",
    "\n",
    "fiannly, we have a list of papers and we want to assign an author to each of them. Easy peasy\n",
    "\n"
   ]
  },
  {
   "cell_type": "code",
   "execution_count": 4,
   "metadata": {},
   "outputs": [
    {
     "name": "stdout",
     "output_type": "stream",
     "text": [
      "0) paper0 --> helpfulStudent institute2\n",
      "1) paper1 --> matteoG Humboldt Universit\\{ae}t zu Berlin\n",
      "2) paper2 --> helpfulStudent institute2\n",
      "3) paper3 --> oldPostdoc institute3\n",
      "4) paper4 --> oldPostdoc institute3\n",
      "5) paper5 --> oldPostdoc institute3\n",
      "6) paper6 --> matteoG Humboldt Universit\\{ae}t zu Berlin\n",
      "7) paper7 --> oldPostdoc institute3\n",
      "8) paper8 --> oldPostdoc institute3\n",
      "9) paper9 --> helpfulStudent institute2\n",
      "10) paper10 --> matteoG Humboldt Universit\\{ae}t zu Berlin\n",
      "11) paper11 --> helpfulStudent institute2\n",
      "12) paper12 --> oldPostdoc institute3\n",
      "13) paper13 --> helpfulStudent institute2\n",
      "14) paper14 --> oldPostdoc institute3\n",
      "15) paper15 --> oldPostdoc institute3\n",
      "16) paper16 --> helpfulStudent institute2\n",
      "17) paper17 --> oldPostdoc institute3\n",
      "18) paper18 --> oldPostdoc institute3\n",
      "19) paper19 --> helpfulStudent institute2\n",
      "20) paper20 --> oldPostdoc institute3\n",
      "21) paper21 --> helpfulStudent institute2\n"
     ]
    }
   ],
   "source": [
    "# let's create a phony list of papers\n",
    "papers = ['paper%d'%ii for ii in range(22)]\n",
    "author_list = authors.assign(papers)"
   ]
  }
 ],
 "metadata": {
  "kernelspec": {
   "display_name": "Python 3",
   "language": "python",
   "name": "python3"
  },
  "language_info": {
   "codemirror_mode": {
    "name": "ipython",
    "version": 3
   },
   "file_extension": ".py",
   "mimetype": "text/x-python",
   "name": "python",
   "nbconvert_exporter": "python",
   "pygments_lexer": "ipython3",
   "version": "3.6.3"
  }
 },
 "nbformat": 4,
 "nbformat_minor": 2
}
